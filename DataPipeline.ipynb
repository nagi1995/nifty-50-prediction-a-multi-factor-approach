{
  "nbformat": 4,
  "nbformat_minor": 0,
  "metadata": {
    "colab": {
      "name": "Final.ipynb",
      "provenance": [],
      "collapsed_sections": []
    },
    "kernelspec": {
      "display_name": "Python 3",
      "language": "python",
      "name": "python3"
    },
    "language_info": {
      "codemirror_mode": {
        "name": "ipython",
        "version": 3
      },
      "file_extension": ".py",
      "mimetype": "text/x-python",
      "name": "python",
      "nbconvert_exporter": "python",
      "pygments_lexer": "ipython3",
      "version": "3.8.5"
    }
  },
  "cells": [
    {
      "cell_type": "code",
      "metadata": {
        "colab": {
          "base_uri": "https://localhost:8080/"
        },
        "id": "eqzCRKNvIc_I",
        "outputId": "a47f1b8f-7c51-417f-adb2-7a4841b79420"
      },
      "source": [
        "from google.colab import drive\n",
        "drive.mount('/content/drive')\n",
        "\n",
        "!ln -s /content/drive/MyDrive /mygdrive"
      ],
      "execution_count": 1,
      "outputs": [
        {
          "output_type": "stream",
          "name": "stdout",
          "text": [
            "Mounted at /content/drive\n"
          ]
        }
      ]
    },
    {
      "cell_type": "code",
      "metadata": {
        "colab": {
          "base_uri": "https://localhost:8080/"
        },
        "id": "lHOXKCeDIwaA",
        "outputId": "2dabccdb-4404-4bd2-d269-876c75f2492a"
      },
      "source": [
        "!ls /mygdrive"
      ],
      "execution_count": 2,
      "outputs": [
        {
          "output_type": "stream",
          "name": "stdout",
          "text": [
            "'Colab Notebooks'   CS1\n"
          ]
        }
      ]
    },
    {
      "cell_type": "markdown",
      "metadata": {
        "id": "z6-tXthcI79S"
      },
      "source": [
        "# importing libraries"
      ]
    },
    {
      "cell_type": "code",
      "metadata": {
        "id": "8LjzzbUQIyVn"
      },
      "source": [
        "import numpy as np\n",
        "import pandas as pd\n",
        "%matplotlib inline\n",
        "from matplotlib import pyplot as plt\n",
        "import os\n",
        "import datetime as dt\n",
        "from datetime import datetime\n",
        "from tqdm import tqdm\n",
        "from sklearn.metrics import mean_squared_error\n",
        "import pickle\n",
        "import random"
      ],
      "execution_count": 3,
      "outputs": []
    },
    {
      "cell_type": "markdown",
      "metadata": {
        "id": "dONvdTVOoF13"
      },
      "source": [
        "# loading models"
      ]
    },
    {
      "cell_type": "code",
      "metadata": {
        "id": "VfAksc0CJCHv"
      },
      "source": [
        "data_path = \"/mygdrive/CS1/data/\"\n",
        "\n",
        "with open(\"/mygdrive/CS1/LR_L1_reg.pkl\", \"rb\") as f: \n",
        "  model = pickle.load(f)\n",
        "\n",
        "with open(\"/mygdrive/CS1/x_scaler.pkl\", \"rb\") as f: \n",
        "  x_scaler = pickle.load(f)\n",
        "\n",
        "with open(\"/mygdrive/CS1/y_scaler.pkl\", \"rb\") as f: \n",
        "  y_scaler = pickle.load(f)\n"
      ],
      "execution_count": 4,
      "outputs": []
    },
    {
      "cell_type": "markdown",
      "metadata": {
        "id": "ioLe3njgoNEc"
      },
      "source": [
        "# loading data"
      ]
    },
    {
      "cell_type": "code",
      "metadata": {
        "colab": {
          "base_uri": "https://localhost:8080/",
          "height": 199
        },
        "id": "gDTBTAbNPAQF",
        "outputId": "8c4e9c2b-023d-4c1f-dc5e-39c1bc74a14b"
      },
      "source": [
        "df_test = pd.read_csv(data_path + \"test_features_only.csv\", parse_dates = True)\n",
        "df_test[\"Date\"] = pd.to_datetime(df_test[\"Date\"], format = \"%Y-%m-%d\")\n",
        "df_test.sort_values(by = [\"Date\"], inplace = True)\n",
        "df_test.head(2)"
      ],
      "execution_count": 10,
      "outputs": [
        {
          "output_type": "execute_result",
          "data": {
            "text/html": [
              "<div>\n",
              "<style scoped>\n",
              "    .dataframe tbody tr th:only-of-type {\n",
              "        vertical-align: middle;\n",
              "    }\n",
              "\n",
              "    .dataframe tbody tr th {\n",
              "        vertical-align: top;\n",
              "    }\n",
              "\n",
              "    .dataframe thead th {\n",
              "        text-align: right;\n",
              "    }\n",
              "</style>\n",
              "<table border=\"1\" class=\"dataframe\">\n",
              "  <thead>\n",
              "    <tr style=\"text-align: right;\">\n",
              "      <th></th>\n",
              "      <th>Date</th>\n",
              "      <th>Close</th>\n",
              "      <th>(H-L)*100/L</th>\n",
              "      <th>PE_NIFTY50</th>\n",
              "      <th>crude close</th>\n",
              "      <th>crude (H-L)*100/L</th>\n",
              "      <th>gold close</th>\n",
              "      <th>gold (H-L)*100/L</th>\n",
              "      <th>euronext close</th>\n",
              "      <th>euronext (H-L)*100/L</th>\n",
              "      <th>nasdaq close</th>\n",
              "      <th>nasdaq (H-L)*100/L</th>\n",
              "      <th>sp500 close</th>\n",
              "      <th>sp500 (H-L)*100/L</th>\n",
              "      <th>treasury close</th>\n",
              "      <th>treasury (H-L)*100/L</th>\n",
              "      <th>usd_inr close</th>\n",
              "      <th>usd_inr (H-L)*100/L</th>\n",
              "      <th>(C-O)*100/O</th>\n",
              "      <th>crude (C-O)*100/O</th>\n",
              "      <th>gold (C-O)*100/O</th>\n",
              "      <th>euronext (C-O)*100/O</th>\n",
              "      <th>nasdaq (C-O)*100/O</th>\n",
              "      <th>sp500 (C-O)*100/O</th>\n",
              "      <th>treasury (C-O)*100/O</th>\n",
              "      <th>usd_inr (C-O)*100/O</th>\n",
              "      <th>(O2-O1)*100/O1</th>\n",
              "      <th>(C2-C1)*100/C1</th>\n",
              "      <th>(O2-C1)*100/C1</th>\n",
              "      <th>crude (O2-O1)*100/O1</th>\n",
              "      <th>crude (C2-C1)*100/C1</th>\n",
              "      <th>crude (O2-C1)*100/C1</th>\n",
              "      <th>gold (O2-O1)*100/O1</th>\n",
              "      <th>gold (C2-C1)*100/C1</th>\n",
              "      <th>gold (O2-C1)*100/C1</th>\n",
              "      <th>euronext (O2-O1)*100/O1</th>\n",
              "      <th>euronext (C2-C1)*100/C1</th>\n",
              "      <th>euronext (O2-C1)*100/C1</th>\n",
              "      <th>nasdaq (O2-O1)*100/O1</th>\n",
              "      <th>nasdaq (C2-C1)*100/C1</th>\n",
              "      <th>nasdaq (O2-C1)*100/C1</th>\n",
              "      <th>sp500 (O2-O1)*100/O1</th>\n",
              "      <th>sp500 (C2-C1)*100/C1</th>\n",
              "      <th>sp500 (O2-C1)*100/C1</th>\n",
              "      <th>treasury (O2-O1)*100/O1</th>\n",
              "      <th>treasury (C2-C1)*100/C1</th>\n",
              "      <th>treasury (O2-C1)*100/C1</th>\n",
              "      <th>usd_inr (O2-O1)*100/O1</th>\n",
              "      <th>usd_inr (C2-C1)*100/C1</th>\n",
              "      <th>usd_inr (O2-C1)*100/C1</th>\n",
              "      <th>output</th>\n",
              "    </tr>\n",
              "  </thead>\n",
              "  <tbody>\n",
              "    <tr>\n",
              "      <th>0</th>\n",
              "      <td>2018-11-02</td>\n",
              "      <td>10553.0</td>\n",
              "      <td>1.427178</td>\n",
              "      <td>25.40</td>\n",
              "      <td>72.830002</td>\n",
              "      <td>1.815166</td>\n",
              "      <td>1230.900024</td>\n",
              "      <td>0.194981</td>\n",
              "      <td>991.010010</td>\n",
              "      <td>1.159516</td>\n",
              "      <td>7356.990234</td>\n",
              "      <td>2.299725</td>\n",
              "      <td>2723.060059</td>\n",
              "      <td>2.077814</td>\n",
              "      <td>3.214</td>\n",
              "      <td>1.933439</td>\n",
              "      <td>73.309998</td>\n",
              "      <td>1.058907</td>\n",
              "      <td>0.866924</td>\n",
              "      <td>0.233964</td>\n",
              "      <td>-0.194602</td>\n",
              "      <td>-0.883143</td>\n",
              "      <td>-0.902877</td>\n",
              "      <td>-0.815527</td>\n",
              "      <td>1.870048</td>\n",
              "      <td>0.31541</td>\n",
              "      <td>0.197282</td>\n",
              "      <td>1.662257</td>\n",
              "      <td>0.788498</td>\n",
              "      <td>-3.761584</td>\n",
              "      <td>-3.536421</td>\n",
              "      <td>-3.761584</td>\n",
              "      <td>1.472768</td>\n",
              "      <td>-0.412619</td>\n",
              "      <td>-0.218443</td>\n",
              "      <td>1.612860</td>\n",
              "      <td>0.361542</td>\n",
              "      <td>1.255775</td>\n",
              "      <td>1.312808</td>\n",
              "      <td>-1.036712</td>\n",
              "      <td>-0.135055</td>\n",
              "      <td>1.025540</td>\n",
              "      <td>-0.631669</td>\n",
              "      <td>0.185370</td>\n",
              "      <td>-0.284450</td>\n",
              "      <td>2.226463</td>\n",
              "      <td>0.349873</td>\n",
              "      <td>-1.337251</td>\n",
              "      <td>-1.026059</td>\n",
              "      <td>-1.337251</td>\n",
              "      <td>10524.0</td>\n",
              "    </tr>\n",
              "    <tr>\n",
              "      <th>1</th>\n",
              "      <td>2018-11-05</td>\n",
              "      <td>10524.0</td>\n",
              "      <td>0.780756</td>\n",
              "      <td>25.33</td>\n",
              "      <td>73.169998</td>\n",
              "      <td>2.616641</td>\n",
              "      <td>1229.800049</td>\n",
              "      <td>0.391298</td>\n",
              "      <td>989.440002</td>\n",
              "      <td>0.533989</td>\n",
              "      <td>7328.850098</td>\n",
              "      <td>1.286544</td>\n",
              "      <td>2738.310059</td>\n",
              "      <td>0.968751</td>\n",
              "      <td>3.201</td>\n",
              "      <td>0.596359</td>\n",
              "      <td>72.904999</td>\n",
              "      <td>1.238390</td>\n",
              "      <td>-0.329111</td>\n",
              "      <td>0.577317</td>\n",
              "      <td>-0.065003</td>\n",
              "      <td>-0.169505</td>\n",
              "      <td>-0.207378</td>\n",
              "      <td>0.437943</td>\n",
              "      <td>-0.062441</td>\n",
              "      <td>0.00000</td>\n",
              "      <td>0.921883</td>\n",
              "      <td>-0.274803</td>\n",
              "      <td>0.054487</td>\n",
              "      <td>0.123859</td>\n",
              "      <td>0.466835</td>\n",
              "      <td>-0.109848</td>\n",
              "      <td>-0.218931</td>\n",
              "      <td>-0.089363</td>\n",
              "      <td>-0.024376</td>\n",
              "      <td>-0.872143</td>\n",
              "      <td>-0.158425</td>\n",
              "      <td>0.011098</td>\n",
              "      <td>-1.076774</td>\n",
              "      <td>-0.382495</td>\n",
              "      <td>-0.175481</td>\n",
              "      <td>-0.694962</td>\n",
              "      <td>0.560032</td>\n",
              "      <td>0.121557</td>\n",
              "      <td>1.521395</td>\n",
              "      <td>-0.404480</td>\n",
              "      <td>-0.342253</td>\n",
              "      <td>-0.238780</td>\n",
              "      <td>-0.552447</td>\n",
              "      <td>-0.552447</td>\n",
              "      <td>10530.0</td>\n",
              "    </tr>\n",
              "  </tbody>\n",
              "</table>\n",
              "</div>"
            ],
            "text/plain": [
              "        Date    Close  ...  usd_inr (O2-C1)*100/C1   output\n",
              "0 2018-11-02  10553.0  ...               -1.337251  10524.0\n",
              "1 2018-11-05  10524.0  ...               -0.552447  10530.0\n",
              "\n",
              "[2 rows x 51 columns]"
            ]
          },
          "metadata": {},
          "execution_count": 10
        }
      ]
    },
    {
      "cell_type": "code",
      "metadata": {
        "colab": {
          "base_uri": "https://localhost:8080/",
          "height": 199
        },
        "id": "GwN-2kkrSfR6",
        "outputId": "78dc2c72-544c-4102-c0f2-38899547d13f"
      },
      "source": [
        "df_test.tail(2)"
      ],
      "execution_count": 11,
      "outputs": [
        {
          "output_type": "execute_result",
          "data": {
            "text/html": [
              "<div>\n",
              "<style scoped>\n",
              "    .dataframe tbody tr th:only-of-type {\n",
              "        vertical-align: middle;\n",
              "    }\n",
              "\n",
              "    .dataframe tbody tr th {\n",
              "        vertical-align: top;\n",
              "    }\n",
              "\n",
              "    .dataframe thead th {\n",
              "        text-align: right;\n",
              "    }\n",
              "</style>\n",
              "<table border=\"1\" class=\"dataframe\">\n",
              "  <thead>\n",
              "    <tr style=\"text-align: right;\">\n",
              "      <th></th>\n",
              "      <th>Date</th>\n",
              "      <th>Close</th>\n",
              "      <th>(H-L)*100/L</th>\n",
              "      <th>PE_NIFTY50</th>\n",
              "      <th>crude close</th>\n",
              "      <th>crude (H-L)*100/L</th>\n",
              "      <th>gold close</th>\n",
              "      <th>gold (H-L)*100/L</th>\n",
              "      <th>euronext close</th>\n",
              "      <th>euronext (H-L)*100/L</th>\n",
              "      <th>nasdaq close</th>\n",
              "      <th>nasdaq (H-L)*100/L</th>\n",
              "      <th>sp500 close</th>\n",
              "      <th>sp500 (H-L)*100/L</th>\n",
              "      <th>treasury close</th>\n",
              "      <th>treasury (H-L)*100/L</th>\n",
              "      <th>usd_inr close</th>\n",
              "      <th>usd_inr (H-L)*100/L</th>\n",
              "      <th>(C-O)*100/O</th>\n",
              "      <th>crude (C-O)*100/O</th>\n",
              "      <th>gold (C-O)*100/O</th>\n",
              "      <th>euronext (C-O)*100/O</th>\n",
              "      <th>nasdaq (C-O)*100/O</th>\n",
              "      <th>sp500 (C-O)*100/O</th>\n",
              "      <th>treasury (C-O)*100/O</th>\n",
              "      <th>usd_inr (C-O)*100/O</th>\n",
              "      <th>(O2-O1)*100/O1</th>\n",
              "      <th>(C2-C1)*100/C1</th>\n",
              "      <th>(O2-C1)*100/C1</th>\n",
              "      <th>crude (O2-O1)*100/O1</th>\n",
              "      <th>crude (C2-C1)*100/C1</th>\n",
              "      <th>crude (O2-C1)*100/C1</th>\n",
              "      <th>gold (O2-O1)*100/O1</th>\n",
              "      <th>gold (C2-C1)*100/C1</th>\n",
              "      <th>gold (O2-C1)*100/C1</th>\n",
              "      <th>euronext (O2-O1)*100/O1</th>\n",
              "      <th>euronext (C2-C1)*100/C1</th>\n",
              "      <th>euronext (O2-C1)*100/C1</th>\n",
              "      <th>nasdaq (O2-O1)*100/O1</th>\n",
              "      <th>nasdaq (C2-C1)*100/C1</th>\n",
              "      <th>nasdaq (O2-C1)*100/C1</th>\n",
              "      <th>sp500 (O2-O1)*100/O1</th>\n",
              "      <th>sp500 (C2-C1)*100/C1</th>\n",
              "      <th>sp500 (O2-C1)*100/C1</th>\n",
              "      <th>treasury (O2-O1)*100/O1</th>\n",
              "      <th>treasury (C2-C1)*100/C1</th>\n",
              "      <th>treasury (O2-C1)*100/C1</th>\n",
              "      <th>usd_inr (O2-O1)*100/O1</th>\n",
              "      <th>usd_inr (C2-C1)*100/C1</th>\n",
              "      <th>usd_inr (O2-C1)*100/C1</th>\n",
              "      <th>output</th>\n",
              "    </tr>\n",
              "  </thead>\n",
              "  <tbody>\n",
              "    <tr>\n",
              "      <th>679</th>\n",
              "      <td>2021-08-09</td>\n",
              "      <td>16258.250000</td>\n",
              "      <td>0.875825</td>\n",
              "      <td>26.53</td>\n",
              "      <td>69.040001</td>\n",
              "      <td>3.62372</td>\n",
              "      <td>1723.400024</td>\n",
              "      <td>3.615743</td>\n",
              "      <td>1314.209961</td>\n",
              "      <td>0.322520</td>\n",
              "      <td>14860.179688</td>\n",
              "      <td>0.548003</td>\n",
              "      <td>4432.350098</td>\n",
              "      <td>0.331091</td>\n",
              "      <td>1.317</td>\n",
              "      <td>4.416404</td>\n",
              "      <td>74.491402</td>\n",
              "      <td>0.451694</td>\n",
              "      <td>-0.141878</td>\n",
              "      <td>-1.455891</td>\n",
              "      <td>-1.716565</td>\n",
              "      <td>0.200522</td>\n",
              "      <td>0.029752</td>\n",
              "      <td>-0.122132</td>\n",
              "      <td>3.051643</td>\n",
              "      <td>-0.000133</td>\n",
              "      <td>-0.141378</td>\n",
              "      <td>0.123473</td>\n",
              "      <td>0.265728</td>\n",
              "      <td>-1.683980</td>\n",
              "      <td>-2.347944</td>\n",
              "      <td>-0.905232</td>\n",
              "      <td>-2.572511</td>\n",
              "      <td>-2.079544</td>\n",
              "      <td>-0.369318</td>\n",
              "      <td>0.289028</td>\n",
              "      <td>0.182946</td>\n",
              "      <td>-0.017541</td>\n",
              "      <td>-0.056915</td>\n",
              "      <td>0.164602</td>\n",
              "      <td>0.134809</td>\n",
              "      <td>0.196434</td>\n",
              "      <td>-0.093991</td>\n",
              "      <td>0.028175</td>\n",
              "      <td>2.076677</td>\n",
              "      <td>2.093023</td>\n",
              "      <td>-0.930233</td>\n",
              "      <td>0.562812</td>\n",
              "      <td>0.552632</td>\n",
              "      <td>0.552766</td>\n",
              "      <td>16280.099609</td>\n",
              "    </tr>\n",
              "    <tr>\n",
              "      <th>680</th>\n",
              "      <td>2021-08-10</td>\n",
              "      <td>16280.099609</td>\n",
              "      <td>0.969001</td>\n",
              "      <td>26.35</td>\n",
              "      <td>70.629997</td>\n",
              "      <td>3.27679</td>\n",
              "      <td>1728.800049</td>\n",
              "      <td>0.877854</td>\n",
              "      <td>1319.800049</td>\n",
              "      <td>0.481522</td>\n",
              "      <td>14788.089844</td>\n",
              "      <td>0.949745</td>\n",
              "      <td>4436.750000</td>\n",
              "      <td>0.342665</td>\n",
              "      <td>1.342</td>\n",
              "      <td>2.820122</td>\n",
              "      <td>74.466202</td>\n",
              "      <td>0.439565</td>\n",
              "      <td>0.032564</td>\n",
              "      <td>1.933895</td>\n",
              "      <td>0.011574</td>\n",
              "      <td>0.220216</td>\n",
              "      <td>-0.669410</td>\n",
              "      <td>0.021641</td>\n",
              "      <td>1.666667</td>\n",
              "      <td>0.000000</td>\n",
              "      <td>-0.040229</td>\n",
              "      <td>0.134391</td>\n",
              "      <td>0.101793</td>\n",
              "      <td>-1.099054</td>\n",
              "      <td>2.303007</td>\n",
              "      <td>0.362109</td>\n",
              "      <td>-1.420018</td>\n",
              "      <td>0.313336</td>\n",
              "      <td>0.301726</td>\n",
              "      <td>0.405623</td>\n",
              "      <td>0.425357</td>\n",
              "      <td>0.204691</td>\n",
              "      <td>0.215339</td>\n",
              "      <td>-0.485121</td>\n",
              "      <td>0.185531</td>\n",
              "      <td>-0.044617</td>\n",
              "      <td>0.099268</td>\n",
              "      <td>0.077610</td>\n",
              "      <td>3.286385</td>\n",
              "      <td>1.898254</td>\n",
              "      <td>0.227790</td>\n",
              "      <td>-0.033962</td>\n",
              "      <td>-0.033829</td>\n",
              "      <td>-0.033829</td>\n",
              "      <td>16282.250000</td>\n",
              "    </tr>\n",
              "  </tbody>\n",
              "</table>\n",
              "</div>"
            ],
            "text/plain": [
              "          Date         Close  ...  usd_inr (O2-C1)*100/C1        output\n",
              "679 2021-08-09  16258.250000  ...                0.552766  16280.099609\n",
              "680 2021-08-10  16280.099609  ...               -0.033829  16282.250000\n",
              "\n",
              "[2 rows x 51 columns]"
            ]
          },
          "metadata": {},
          "execution_count": 11
        }
      ]
    },
    {
      "cell_type": "markdown",
      "metadata": {
        "id": "Ig4e5QFUoSrB"
      },
      "source": [
        "# utility functions"
      ]
    },
    {
      "cell_type": "code",
      "metadata": {
        "id": "HGceF2DtKz3C"
      },
      "source": [
        "# Reference: https://github.com/Shagun-25/Nifty-Index-Prediction-Using-News-Sentiments/blob/master/Pipeline.ipynb\n",
        "\n",
        "def single_day_prediction(date): \n",
        "  '''\n",
        "  Given a date this function tries to predict the\n",
        "  closing value of next day's NIFTY 50 index\n",
        "  '''\n",
        "  present_day = df_test[df_test['Date'] == date]\n",
        "  if present_day.shape[0] == 1: \n",
        "    x = present_day.values[0, 1 : -1].reshape(1, -1)\n",
        "    x_scaled = x_scaler.transform(x)\n",
        "    \n",
        "    y_pred_scaled = model.predict(x_scaled)\n",
        "    y_pred = y_scaler.inverse_transform(y_pred_scaled.reshape(1, -1))\n",
        "    \n",
        "    print(\"Actual closing index value for next working day is:\", present_day.values[0, -1])\n",
        "    print(\"Predicted closing index value for next working day is:\", y_pred[0, 0])\n",
        "  \n",
        "  else:\n",
        "    print(\"Please enter a non-stock market holiday date between \\'2018-11-02\\' and \\'2021-08-10\\' in \\'YYYY-MM-DD format\")\n",
        "\n",
        "def multiple_days_prediction(): \n",
        "  \n",
        "  # randomly selecting a row\n",
        "  n = random.sample(range(df_test.shape[0] - 60), 1)[0]\n",
        "  \n",
        "  x = df_test.values[n : n+60, 1 : -1]\n",
        "  x_scaled = x_scaler.transform(x)\n",
        "  y_true = df_test.values[n : n+60, -1]\n",
        "  \n",
        "  y_pred_scaled = model.predict(x_scaled)\n",
        "  \n",
        "  y_pred = y_scaler.inverse_transform(y_pred_scaled)\n",
        "  print(\"RMSE:\", mean_squared_error(y_true, y_pred, squared = False))\n",
        "\n",
        "  plt.figure(figsize = (10, 5))\n",
        "  plt.plot(df_test.iloc[n : n+60, 0], y_true, \"b.-\", label = \"original\")\n",
        "  plt.plot(df_test.iloc[n : n+60, 0], y_pred, \"r.-\", label = \"predicted\")\n",
        "  plt.legend()\n",
        "  plt.xlabel(\"Date\")\n",
        "  plt.ylabel(\"Index Value\")\n",
        "  plt.title(\"NIFTY 50 index prediction for 60 consecutive days\")\n",
        "  plt.grid()\n",
        "  plt.show()\n"
      ],
      "execution_count": 12,
      "outputs": []
    },
    {
      "cell_type": "markdown",
      "metadata": {
        "id": "Gk9vL9X8oVwI"
      },
      "source": [
        "# single day prediction"
      ]
    },
    {
      "cell_type": "code",
      "metadata": {
        "colab": {
          "base_uri": "https://localhost:8080/"
        },
        "id": "zriIodyBSFKW",
        "outputId": "8d19e9bb-a55a-4f89-a52b-63168133ad9d"
      },
      "source": [
        "%%time\n",
        "single_day_prediction(\"2018-11-04\")"
      ],
      "execution_count": 13,
      "outputs": [
        {
          "output_type": "stream",
          "name": "stdout",
          "text": [
            "Please enter a non-stock market holiday date between '2018-11-02' and '2021-08-10' in 'YYYY-MM-DD format\n",
            "CPU times: user 3.37 ms, sys: 1.08 ms, total: 4.45 ms\n",
            "Wall time: 5.79 ms\n"
          ]
        }
      ]
    },
    {
      "cell_type": "code",
      "metadata": {
        "colab": {
          "base_uri": "https://localhost:8080/"
        },
        "id": "ChWUZeRncB9z",
        "outputId": "eee29475-cf16-4879-9fc0-252d3363563e"
      },
      "source": [
        "%%time\n",
        "single_day_prediction(\"2018-11-05\")"
      ],
      "execution_count": 14,
      "outputs": [
        {
          "output_type": "stream",
          "name": "stdout",
          "text": [
            "Actual closing index value for next working day is: 10530.0\n",
            "Predicted closing index value for next working day is: 10520.252086858969\n",
            "CPU times: user 2.73 ms, sys: 0 ns, total: 2.73 ms\n",
            "Wall time: 2.42 ms\n"
          ]
        }
      ]
    },
    {
      "cell_type": "markdown",
      "metadata": {
        "id": "ohe7K6uloY4n"
      },
      "source": [
        "# multiple days prediction"
      ]
    },
    {
      "cell_type": "code",
      "metadata": {
        "colab": {
          "base_uri": "https://localhost:8080/",
          "height": 401
        },
        "id": "X1FzBpcCmLq7",
        "outputId": "4beaf86b-7579-4717-9bac-068484b39e9e"
      },
      "source": [
        "%%time\n",
        "multiple_days_prediction()"
      ],
      "execution_count": 22,
      "outputs": [
        {
          "output_type": "stream",
          "name": "stdout",
          "text": [
            "RMSE: 70.72937067374113\n"
          ]
        },
        {
          "output_type": "display_data",
          "data": {
            "image/png": "[encoded data removed]",
            "text/plain": [
              "<Figure size 720x360 with 1 Axes>"
            ]
          },
          "metadata": {
            "needs_background": "light"
          }
        },
        {
          "output_type": "stream",
          "name": "stdout",
          "text": [
            "CPU times: user 213 ms, sys: 8.35 ms, total: 222 ms\n",
            "Wall time: 223 ms\n"
          ]
        }
      ]
    },
    {
      "cell_type": "code",
      "metadata": {
        "id": "kyIQGhylmgUA"
      },
      "source": [
        ""
      ],
      "execution_count": null,
      "outputs": []
    }
  ]
}